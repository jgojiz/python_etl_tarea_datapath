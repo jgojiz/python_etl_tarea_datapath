{
 "cells": [
  {
   "cell_type": "markdown",
   "metadata": {},
   "source": [
    "# Basic loading data to sql database from csv file"
   ]
  },
  {
   "cell_type": "code",
   "execution_count": 1,
   "metadata": {},
   "outputs": [],
   "source": [
    "import pandas as pd\n",
    "import sqlalchemy as sa\n",
    "from utils import connection as conn"
   ]
  },
  {
   "cell_type": "code",
   "execution_count": 2,
   "metadata": {},
   "outputs": [],
   "source": [
    "# get credentials for oltp schema\n",
    "host, database, user, password = conn.mysql_params('oltp')"
   ]
  },
  {
   "cell_type": "code",
   "execution_count": 3,
   "metadata": {},
   "outputs": [],
   "source": [
    "engine = sa.create_engine(f\"mysql://{user}:{password}@{host}:3306/{database}\")\n",
    "conn = engine.connect()"
   ]
  },
  {
   "cell_type": "markdown",
   "metadata": {},
   "source": [
    "### Read data in the csv file\n",
    "Instructions to download datasets from the Kaggle's public API here -> https://www.kaggle.com/docs/api\n",
    "Dataset: https://www.kaggle.com/datasets/arnavsmayan/amazon-prime-userbase-dataset\n"
   ]
  },
  {
   "cell_type": "code",
   "execution_count": 4,
   "metadata": {},
   "outputs": [
    {
     "name": "stdout",
     "output_type": "stream",
     "text": [
      "<class 'pandas.core.frame.DataFrame'>\n",
      "RangeIndex: 2500 entries, 0 to 2499\n",
      "Data columns (total 19 columns):\n",
      " #   Column                         Non-Null Count  Dtype \n",
      "---  ------                         --------------  ----- \n",
      " 0   User ID                        2500 non-null   int64 \n",
      " 1   Name                           2500 non-null   object\n",
      " 2   Email Address                  2500 non-null   object\n",
      " 3   Username                       2500 non-null   object\n",
      " 4   Date of Birth                  2500 non-null   object\n",
      " 5   Gender                         2500 non-null   object\n",
      " 6   location.Index                 2500 non-null   int64 \n",
      " 7   Membership Start Date          2500 non-null   object\n",
      " 8   Membership End Date            2500 non-null   object\n",
      " 9   subscription plan.1.Index      2500 non-null   int64 \n",
      " 10  payment.Index                  2500 non-null   int64 \n",
      " 11  renewal.Index                  2500 non-null   int64 \n",
      " 12  usage.Index                    2500 non-null   int64 \n",
      " 13  purchase history.1.Index       2500 non-null   int64 \n",
      " 14  genres.Index                   2500 non-null   int64 \n",
      " 15  devices.Index                  2500 non-null   int64 \n",
      " 16  engagement.Index               2500 non-null   int64 \n",
      " 17  Feedback/Ratings               2500 non-null   int64 \n",
      " 18  Customer Support Interactions  2500 non-null   int64 \n",
      "dtypes: int64(12), object(7)\n",
      "memory usage: 371.2+ KB\n"
     ]
    }
   ],
   "source": [
    "# read data for fact table\n",
    "prime = pd.read_csv('amazon_prime_users_dataset/amazon_prime_users_modified.csv')\n",
    "prime.info()"
   ]
  },
  {
   "cell_type": "code",
   "execution_count": null,
   "metadata": {},
   "outputs": [],
   "source": [
    "prime.head(5)"
   ]
  },
  {
   "cell_type": "markdown",
   "metadata": {},
   "source": [
    "### Match columns of CSV files to the same as in the server"
   ]
  },
  {
   "cell_type": "code",
   "execution_count": null,
   "metadata": {},
   "outputs": [],
   "source": [
    "prime.columns"
   ]
  },
  {
   "cell_type": "code",
   "execution_count": 5,
   "metadata": {},
   "outputs": [],
   "source": [
    "new_columns = [\n",
    "    'User_ID',\n",
    "    'Name',\n",
    "    'Email_Address',\n",
    "    'Username',\n",
    "    'Date_of_Birth',\n",
    "    'Gender',\n",
    "    'Location_Id',\n",
    "    'Membership_Start_Date',\n",
    "    'Membership_End_Date',\n",
    "    'Subscription_Plan_Id',\n",
    "    'Payment_Info_Id',\n",
    "    'Renewal_Status_Id',\n",
    "    'Usage_Frequency_Id',\n",
    "    'Purchase_History_Id',\n",
    "    'Favorite_Genres_Id',\n",
    "    'Devices_Used_Id',\n",
    "    'Engagement_Metrics_Id',\n",
    "    'Feedback_Ratings',\n",
    "    'Customer_Support_Interactions'\n",
    "]"
   ]
  },
  {
   "cell_type": "code",
   "execution_count": 6,
   "metadata": {},
   "outputs": [
    {
     "data": {
      "text/plain": [
       "Index(['User_ID', 'Name', 'Email_Address', 'Username', 'Date_of_Birth',\n",
       "       'Gender', 'Location_Id', 'Membership_Start_Date', 'Membership_End_Date',\n",
       "       'Subscription_Plan_Id', 'Payment_Info_Id', 'Renewal_Status_Id',\n",
       "       'Usage_Frequency_Id', 'Purchase_History_Id', 'Favorite_Genres_Id',\n",
       "       'Devices_Used_Id', 'Engagement_Metrics_Id', 'Feedback_Ratings',\n",
       "       'Customer_Support_Interactions'],\n",
       "      dtype='object')"
      ]
     },
     "execution_count": 6,
     "metadata": {},
     "output_type": "execute_result"
    }
   ],
   "source": [
    "for old_column, new_column in zip(prime.columns, new_columns):\n",
    "    prime.rename(columns={old_column:new_column}, inplace=True)\n",
    "\n",
    "prime.columns"
   ]
  },
  {
   "cell_type": "code",
   "execution_count": 8,
   "metadata": {},
   "outputs": [
    {
     "data": {
      "text/plain": [
       "2500"
      ]
     },
     "execution_count": 8,
     "metadata": {},
     "output_type": "execute_result"
    }
   ],
   "source": [
    "# copy data from df to fact table\n",
    "prime.to_sql(name='prime_users', con=conn, if_exists='append', index=False)"
   ]
  },
  {
   "cell_type": "markdown",
   "metadata": {},
   "source": [
    "### Validate the new data in server"
   ]
  },
  {
   "cell_type": "code",
   "execution_count": 9,
   "metadata": {},
   "outputs": [],
   "source": [
    "check = pd.read_sql('SELECT * FROM prime_users', con=conn)"
   ]
  },
  {
   "cell_type": "code",
   "execution_count": 10,
   "metadata": {},
   "outputs": [
    {
     "data": {
      "text/html": [
       "<div>\n",
       "<style scoped>\n",
       "    .dataframe tbody tr th:only-of-type {\n",
       "        vertical-align: middle;\n",
       "    }\n",
       "\n",
       "    .dataframe tbody tr th {\n",
       "        vertical-align: top;\n",
       "    }\n",
       "\n",
       "    .dataframe thead th {\n",
       "        text-align: right;\n",
       "    }\n",
       "</style>\n",
       "<table border=\"1\" class=\"dataframe\">\n",
       "  <thead>\n",
       "    <tr style=\"text-align: right;\">\n",
       "      <th></th>\n",
       "      <th>User_ID</th>\n",
       "      <th>Name</th>\n",
       "      <th>Email_Address</th>\n",
       "      <th>Username</th>\n",
       "      <th>Date_of_Birth</th>\n",
       "      <th>Gender</th>\n",
       "      <th>Location_Id</th>\n",
       "      <th>Membership_Start_Date</th>\n",
       "      <th>Membership_End_Date</th>\n",
       "      <th>Subscription_Plan_Id</th>\n",
       "      <th>Payment_Info_Id</th>\n",
       "      <th>Renewal_Status_Id</th>\n",
       "      <th>Usage_Frequency_Id</th>\n",
       "      <th>Purchase_History_Id</th>\n",
       "      <th>Favorite_Genres_Id</th>\n",
       "      <th>Devices_Used_Id</th>\n",
       "      <th>Engagement_Metrics_Id</th>\n",
       "      <th>Feedback_Ratings</th>\n",
       "      <th>Customer_Support_Interactions</th>\n",
       "    </tr>\n",
       "  </thead>\n",
       "  <tbody>\n",
       "    <tr>\n",
       "      <th>0</th>\n",
       "      <td>1</td>\n",
       "      <td>Ronald Murphy</td>\n",
       "      <td>williamholland@example.com</td>\n",
       "      <td>williamholland</td>\n",
       "      <td>1953-06-03</td>\n",
       "      <td>Male</td>\n",
       "      <td>1</td>\n",
       "      <td>2024-01-15</td>\n",
       "      <td>2025-01-14</td>\n",
       "      <td>1</td>\n",
       "      <td>1</td>\n",
       "      <td>1</td>\n",
       "      <td>1</td>\n",
       "      <td>1</td>\n",
       "      <td>1</td>\n",
       "      <td>1</td>\n",
       "      <td>1</td>\n",
       "      <td>36</td>\n",
       "      <td>3</td>\n",
       "    </tr>\n",
       "    <tr>\n",
       "      <th>1</th>\n",
       "      <td>2</td>\n",
       "      <td>Scott Allen</td>\n",
       "      <td>scott22@example.org</td>\n",
       "      <td>scott22</td>\n",
       "      <td>1978-07-08</td>\n",
       "      <td>Male</td>\n",
       "      <td>2</td>\n",
       "      <td>2024-01-07</td>\n",
       "      <td>2025-01-06</td>\n",
       "      <td>2</td>\n",
       "      <td>2</td>\n",
       "      <td>1</td>\n",
       "      <td>1</td>\n",
       "      <td>1</td>\n",
       "      <td>2</td>\n",
       "      <td>2</td>\n",
       "      <td>1</td>\n",
       "      <td>38</td>\n",
       "      <td>7</td>\n",
       "    </tr>\n",
       "    <tr>\n",
       "      <th>2</th>\n",
       "      <td>3</td>\n",
       "      <td>Jonathan Parrish</td>\n",
       "      <td>brooke16@example.org</td>\n",
       "      <td>brooke16</td>\n",
       "      <td>1994-12-06</td>\n",
       "      <td>Female</td>\n",
       "      <td>3</td>\n",
       "      <td>2024-04-13</td>\n",
       "      <td>2025-04-13</td>\n",
       "      <td>2</td>\n",
       "      <td>1</td>\n",
       "      <td>1</td>\n",
       "      <td>1</td>\n",
       "      <td>2</td>\n",
       "      <td>3</td>\n",
       "      <td>1</td>\n",
       "      <td>2</td>\n",
       "      <td>33</td>\n",
       "      <td>8</td>\n",
       "    </tr>\n",
       "    <tr>\n",
       "      <th>3</th>\n",
       "      <td>4</td>\n",
       "      <td>Megan Williams</td>\n",
       "      <td>elizabeth31@example.net</td>\n",
       "      <td>elizabeth31</td>\n",
       "      <td>1964-12-22</td>\n",
       "      <td>Female</td>\n",
       "      <td>4</td>\n",
       "      <td>2024-01-24</td>\n",
       "      <td>2025-01-23</td>\n",
       "      <td>2</td>\n",
       "      <td>3</td>\n",
       "      <td>2</td>\n",
       "      <td>1</td>\n",
       "      <td>1</td>\n",
       "      <td>1</td>\n",
       "      <td>1</td>\n",
       "      <td>3</td>\n",
       "      <td>33</td>\n",
       "      <td>7</td>\n",
       "    </tr>\n",
       "    <tr>\n",
       "      <th>4</th>\n",
       "      <td>5</td>\n",
       "      <td>Kathryn Brown</td>\n",
       "      <td>pattersonalexandra@example.org</td>\n",
       "      <td>pattersonalexandra</td>\n",
       "      <td>1961-06-04</td>\n",
       "      <td>Male</td>\n",
       "      <td>5</td>\n",
       "      <td>2024-02-14</td>\n",
       "      <td>2025-02-13</td>\n",
       "      <td>1</td>\n",
       "      <td>2</td>\n",
       "      <td>2</td>\n",
       "      <td>2</td>\n",
       "      <td>3</td>\n",
       "      <td>4</td>\n",
       "      <td>1</td>\n",
       "      <td>2</td>\n",
       "      <td>43</td>\n",
       "      <td>1</td>\n",
       "    </tr>\n",
       "  </tbody>\n",
       "</table>\n",
       "</div>"
      ],
      "text/plain": [
       "   User_ID              Name                   Email_Address  \\\n",
       "0        1     Ronald Murphy      williamholland@example.com   \n",
       "1        2       Scott Allen             scott22@example.org   \n",
       "2        3  Jonathan Parrish            brooke16@example.org   \n",
       "3        4    Megan Williams         elizabeth31@example.net   \n",
       "4        5     Kathryn Brown  pattersonalexandra@example.org   \n",
       "\n",
       "             Username Date_of_Birth  Gender  Location_Id  \\\n",
       "0      williamholland    1953-06-03    Male            1   \n",
       "1             scott22    1978-07-08    Male            2   \n",
       "2            brooke16    1994-12-06  Female            3   \n",
       "3         elizabeth31    1964-12-22  Female            4   \n",
       "4  pattersonalexandra    1961-06-04    Male            5   \n",
       "\n",
       "  Membership_Start_Date Membership_End_Date  Subscription_Plan_Id  \\\n",
       "0            2024-01-15          2025-01-14                     1   \n",
       "1            2024-01-07          2025-01-06                     2   \n",
       "2            2024-04-13          2025-04-13                     2   \n",
       "3            2024-01-24          2025-01-23                     2   \n",
       "4            2024-02-14          2025-02-13                     1   \n",
       "\n",
       "   Payment_Info_Id  Renewal_Status_Id  Usage_Frequency_Id  \\\n",
       "0                1                  1                   1   \n",
       "1                2                  1                   1   \n",
       "2                1                  1                   1   \n",
       "3                3                  2                   1   \n",
       "4                2                  2                   2   \n",
       "\n",
       "   Purchase_History_Id  Favorite_Genres_Id  Devices_Used_Id  \\\n",
       "0                    1                   1                1   \n",
       "1                    1                   2                2   \n",
       "2                    2                   3                1   \n",
       "3                    1                   1                1   \n",
       "4                    3                   4                1   \n",
       "\n",
       "   Engagement_Metrics_Id  Feedback_Ratings  Customer_Support_Interactions  \n",
       "0                      1                36                              3  \n",
       "1                      1                38                              7  \n",
       "2                      2                33                              8  \n",
       "3                      3                33                              7  \n",
       "4                      2                43                              1  "
      ]
     },
     "execution_count": 10,
     "metadata": {},
     "output_type": "execute_result"
    }
   ],
   "source": [
    "check.head(5)"
   ]
  }
 ],
 "metadata": {
  "kernelspec": {
   "display_name": "Python 3",
   "language": "python",
   "name": "python3"
  },
  "language_info": {
   "codemirror_mode": {
    "name": "ipython",
    "version": 3
   },
   "file_extension": ".py",
   "mimetype": "text/x-python",
   "name": "python",
   "nbconvert_exporter": "python",
   "pygments_lexer": "ipython3",
   "version": "3.11.3"
  }
 },
 "nbformat": 4,
 "nbformat_minor": 2
}
