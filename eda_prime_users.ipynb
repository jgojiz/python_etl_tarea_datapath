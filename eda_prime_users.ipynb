{
 "cells": [
  {
   "cell_type": "code",
   "execution_count": 1,
   "metadata": {},
   "outputs": [],
   "source": [
    "import pandas as pd\n",
    "from sqlalchemy import create_engine\n",
    "from utils import connection"
   ]
  },
  {
   "cell_type": "code",
   "execution_count": 2,
   "metadata": {},
   "outputs": [],
   "source": [
    "# get credentials for olap schema\n",
    "host, database, user, password = connection.mysql_params('olap')"
   ]
  },
  {
   "cell_type": "code",
   "execution_count": 3,
   "metadata": {},
   "outputs": [],
   "source": [
    "engine = create_engine(f\"mysql://{user}:{password}@{host}:3306/{database}\")\n",
    "conn = engine.connect()"
   ]
  },
  {
   "cell_type": "code",
   "execution_count": 4,
   "metadata": {},
   "outputs": [],
   "source": [
    "query =\"\"\"\n",
    "    SELECT \n",
    "        User_ID,\n",
    "        Name,\n",
    "        Email_Address,\n",
    "        Username,\n",
    "        Date_of_Birth,\n",
    "        Gender,\n",
    "        Location,\n",
    "        Membership_Start_Date,\n",
    "        Membership_End_Date,\n",
    "        YEAR(Membership_Start_Date) AS year,\n",
    "        QUARTER(Membership_Start_Date) AS quarter,\n",
    "        MONTH(Membership_Start_Date) AS month,\n",
    "        DAY(Membership_Start_Date) AS day,\n",
    "        Subscription_Plan,\n",
    "        Payment_Information,\n",
    "        Renewal_Status,\n",
    "        Usage_Frequency,\n",
    "        Purchase_History,\n",
    "        Favorite_Genres,\n",
    "        Devices_Used,\n",
    "        Engagement_Metrics,\n",
    "        Feedback_Ratings,\n",
    "        Customer_Support_Interactions\n",
    "    FROM prime_users\n",
    "\"\"\""
   ]
  },
  {
   "cell_type": "code",
   "execution_count": 5,
   "metadata": {},
   "outputs": [
    {
     "data": {
      "text/html": [
       "<div>\n",
       "<style scoped>\n",
       "    .dataframe tbody tr th:only-of-type {\n",
       "        vertical-align: middle;\n",
       "    }\n",
       "\n",
       "    .dataframe tbody tr th {\n",
       "        vertical-align: top;\n",
       "    }\n",
       "\n",
       "    .dataframe thead th {\n",
       "        text-align: right;\n",
       "    }\n",
       "</style>\n",
       "<table border=\"1\" class=\"dataframe\">\n",
       "  <thead>\n",
       "    <tr style=\"text-align: right;\">\n",
       "      <th></th>\n",
       "      <th>User_ID</th>\n",
       "      <th>Name</th>\n",
       "      <th>Email_Address</th>\n",
       "      <th>Username</th>\n",
       "      <th>Date_of_Birth</th>\n",
       "      <th>Gender</th>\n",
       "      <th>Location</th>\n",
       "      <th>Membership_Start_Date</th>\n",
       "      <th>Membership_End_Date</th>\n",
       "      <th>year</th>\n",
       "      <th>...</th>\n",
       "      <th>Subscription_Plan</th>\n",
       "      <th>Payment_Information</th>\n",
       "      <th>Renewal_Status</th>\n",
       "      <th>Usage_Frequency</th>\n",
       "      <th>Purchase_History</th>\n",
       "      <th>Favorite_Genres</th>\n",
       "      <th>Devices_Used</th>\n",
       "      <th>Engagement_Metrics</th>\n",
       "      <th>Feedback_Ratings</th>\n",
       "      <th>Customer_Support_Interactions</th>\n",
       "    </tr>\n",
       "  </thead>\n",
       "  <tbody>\n",
       "    <tr>\n",
       "      <th>0</th>\n",
       "      <td>29</td>\n",
       "      <td>Shelley Lopez</td>\n",
       "      <td>rodneyroberts@example.com</td>\n",
       "      <td>rodneyroberts</td>\n",
       "      <td>1967-07-05</td>\n",
       "      <td>Female</td>\n",
       "      <td>North Marymouth</td>\n",
       "      <td>2024-01-07</td>\n",
       "      <td>2025-01-06</td>\n",
       "      <td>2024</td>\n",
       "      <td>...</td>\n",
       "      <td>Annual</td>\n",
       "      <td>Mastercard</td>\n",
       "      <td>Auto-renew</td>\n",
       "      <td>Regular</td>\n",
       "      <td>Clothing</td>\n",
       "      <td>Comedy</td>\n",
       "      <td>Smartphone</td>\n",
       "      <td>High</td>\n",
       "      <td>48</td>\n",
       "      <td>7</td>\n",
       "    </tr>\n",
       "    <tr>\n",
       "      <th>1</th>\n",
       "      <td>34</td>\n",
       "      <td>Whitney Underwood</td>\n",
       "      <td>ujones@example.com</td>\n",
       "      <td>ujones</td>\n",
       "      <td>2002-07-23</td>\n",
       "      <td>Female</td>\n",
       "      <td>New Jenniferport</td>\n",
       "      <td>2024-03-30</td>\n",
       "      <td>2025-03-30</td>\n",
       "      <td>2024</td>\n",
       "      <td>...</td>\n",
       "      <td>Annual</td>\n",
       "      <td>Mastercard</td>\n",
       "      <td>Auto-renew</td>\n",
       "      <td>Regular</td>\n",
       "      <td>Electronics</td>\n",
       "      <td>Horror</td>\n",
       "      <td>Smartphone</td>\n",
       "      <td>Low</td>\n",
       "      <td>45</td>\n",
       "      <td>10</td>\n",
       "    </tr>\n",
       "    <tr>\n",
       "      <th>2</th>\n",
       "      <td>46</td>\n",
       "      <td>Geoffrey Garcia</td>\n",
       "      <td>benjamin76@example.org</td>\n",
       "      <td>benjamin76</td>\n",
       "      <td>1993-10-31</td>\n",
       "      <td>Male</td>\n",
       "      <td>Jamesview</td>\n",
       "      <td>2024-02-03</td>\n",
       "      <td>2025-02-02</td>\n",
       "      <td>2024</td>\n",
       "      <td>...</td>\n",
       "      <td>Annual</td>\n",
       "      <td>Mastercard</td>\n",
       "      <td>Auto-renew</td>\n",
       "      <td>Regular</td>\n",
       "      <td>Clothing</td>\n",
       "      <td>Sci-Fi</td>\n",
       "      <td>Smart TV</td>\n",
       "      <td>Medium</td>\n",
       "      <td>39</td>\n",
       "      <td>5</td>\n",
       "    </tr>\n",
       "  </tbody>\n",
       "</table>\n",
       "<p>3 rows × 23 columns</p>\n",
       "</div>"
      ],
      "text/plain": [
       "   User_ID               Name              Email_Address       Username  \\\n",
       "0       29      Shelley Lopez  rodneyroberts@example.com  rodneyroberts   \n",
       "1       34  Whitney Underwood         ujones@example.com         ujones   \n",
       "2       46    Geoffrey Garcia     benjamin76@example.org     benjamin76   \n",
       "\n",
       "  Date_of_Birth  Gender          Location Membership_Start_Date  \\\n",
       "0    1967-07-05  Female   North Marymouth            2024-01-07   \n",
       "1    2002-07-23  Female  New Jenniferport            2024-03-30   \n",
       "2    1993-10-31    Male         Jamesview            2024-02-03   \n",
       "\n",
       "  Membership_End_Date  year  ...  Subscription_Plan  Payment_Information  \\\n",
       "0          2025-01-06  2024  ...             Annual           Mastercard   \n",
       "1          2025-03-30  2024  ...             Annual           Mastercard   \n",
       "2          2025-02-02  2024  ...             Annual           Mastercard   \n",
       "\n",
       "   Renewal_Status Usage_Frequency Purchase_History Favorite_Genres  \\\n",
       "0      Auto-renew         Regular         Clothing          Comedy   \n",
       "1      Auto-renew         Regular      Electronics          Horror   \n",
       "2      Auto-renew         Regular         Clothing          Sci-Fi   \n",
       "\n",
       "  Devices_Used Engagement_Metrics Feedback_Ratings  \\\n",
       "0   Smartphone               High               48   \n",
       "1   Smartphone                Low               45   \n",
       "2     Smart TV             Medium               39   \n",
       "\n",
       "  Customer_Support_Interactions  \n",
       "0                             7  \n",
       "1                            10  \n",
       "2                             5  \n",
       "\n",
       "[3 rows x 23 columns]"
      ]
     },
     "execution_count": 5,
     "metadata": {},
     "output_type": "execute_result"
    }
   ],
   "source": [
    "prime = pd.read_sql(sql=query, con=conn)\n",
    "prime.head(3)"
   ]
  },
  {
   "cell_type": "markdown",
   "metadata": {},
   "source": [
    "### Exploratory Data Analysis"
   ]
  },
  {
   "cell_type": "code",
   "execution_count": 6,
   "metadata": {},
   "outputs": [
    {
     "data": {
      "text/plain": [
       "(2500, 23)"
      ]
     },
     "execution_count": 6,
     "metadata": {},
     "output_type": "execute_result"
    }
   ],
   "source": [
    "prime.shape"
   ]
  },
  {
   "cell_type": "markdown",
   "metadata": {},
   "source": [
    "We verify the data"
   ]
  },
  {
   "cell_type": "code",
   "execution_count": 7,
   "metadata": {},
   "outputs": [
    {
     "name": "stdout",
     "output_type": "stream",
     "text": [
      "<class 'pandas.core.frame.DataFrame'>\n",
      "RangeIndex: 2500 entries, 0 to 2499\n",
      "Data columns (total 23 columns):\n",
      " #   Column                         Non-Null Count  Dtype         \n",
      "---  ------                         --------------  -----         \n",
      " 0   User_ID                        2500 non-null   int64         \n",
      " 1   Name                           2500 non-null   object        \n",
      " 2   Email_Address                  2500 non-null   object        \n",
      " 3   Username                       2500 non-null   object        \n",
      " 4   Date_of_Birth                  2500 non-null   datetime64[ns]\n",
      " 5   Gender                         2500 non-null   object        \n",
      " 6   Location                       2500 non-null   object        \n",
      " 7   Membership_Start_Date          2500 non-null   datetime64[ns]\n",
      " 8   Membership_End_Date            2500 non-null   datetime64[ns]\n",
      " 9   year                           2500 non-null   int64         \n",
      " 10  quarter                        2500 non-null   int64         \n",
      " 11  month                          2500 non-null   int64         \n",
      " 12  day                            2500 non-null   int64         \n",
      " 13  Subscription_Plan              2500 non-null   object        \n",
      " 14  Payment_Information            2500 non-null   object        \n",
      " 15  Renewal_Status                 2500 non-null   object        \n",
      " 16  Usage_Frequency                2500 non-null   object        \n",
      " 17  Purchase_History               2500 non-null   object        \n",
      " 18  Favorite_Genres                2500 non-null   object        \n",
      " 19  Devices_Used                   2500 non-null   object        \n",
      " 20  Engagement_Metrics             2500 non-null   object        \n",
      " 21  Feedback_Ratings               2500 non-null   int64         \n",
      " 22  Customer_Support_Interactions  2500 non-null   int64         \n",
      "dtypes: datetime64[ns](3), int64(7), object(13)\n",
      "memory usage: 449.3+ KB\n"
     ]
    }
   ],
   "source": [
    "prime.info()"
   ]
  },
  {
   "cell_type": "code",
   "execution_count": 11,
   "metadata": {},
   "outputs": [
    {
     "data": {
      "text/plain": [
       "Customer_Support_Interactions\n",
       "1     241\n",
       "0     238\n",
       "10    236\n",
       "5     232\n",
       "2     231\n",
       "4     225\n",
       "8     225\n",
       "6     222\n",
       "7     218\n",
       "9     217\n",
       "3     215\n",
       "Name: count, dtype: int64"
      ]
     },
     "execution_count": 11,
     "metadata": {},
     "output_type": "execute_result"
    }
   ],
   "source": [
    "# We evaluate values for numeric fields. There are 11 values for the number of customer support interactions from 0 to 11\n",
    "prime['Customer_Support_Interactions'].value_counts()"
   ]
  },
  {
   "cell_type": "code",
   "execution_count": 9,
   "metadata": {},
   "outputs": [
    {
     "data": {
      "text/html": [
       "<div>\n",
       "<style scoped>\n",
       "    .dataframe tbody tr th:only-of-type {\n",
       "        vertical-align: middle;\n",
       "    }\n",
       "\n",
       "    .dataframe tbody tr th {\n",
       "        vertical-align: top;\n",
       "    }\n",
       "\n",
       "    .dataframe thead th {\n",
       "        text-align: right;\n",
       "    }\n",
       "</style>\n",
       "<table border=\"1\" class=\"dataframe\">\n",
       "  <thead>\n",
       "    <tr style=\"text-align: right;\">\n",
       "      <th></th>\n",
       "      <th>Feedback_Ratings</th>\n",
       "      <th>Customer_Support_Interactions</th>\n",
       "    </tr>\n",
       "  </thead>\n",
       "  <tbody>\n",
       "    <tr>\n",
       "      <th>count</th>\n",
       "      <td>2500.000000</td>\n",
       "      <td>2500.000000</td>\n",
       "    </tr>\n",
       "    <tr>\n",
       "      <th>mean</th>\n",
       "      <td>40.047600</td>\n",
       "      <td>4.951600</td>\n",
       "    </tr>\n",
       "    <tr>\n",
       "      <th>std</th>\n",
       "      <td>5.807687</td>\n",
       "      <td>3.191572</td>\n",
       "    </tr>\n",
       "    <tr>\n",
       "      <th>min</th>\n",
       "      <td>30.000000</td>\n",
       "      <td>0.000000</td>\n",
       "    </tr>\n",
       "    <tr>\n",
       "      <th>25%</th>\n",
       "      <td>35.000000</td>\n",
       "      <td>2.000000</td>\n",
       "    </tr>\n",
       "    <tr>\n",
       "      <th>50%</th>\n",
       "      <td>40.000000</td>\n",
       "      <td>5.000000</td>\n",
       "    </tr>\n",
       "    <tr>\n",
       "      <th>75%</th>\n",
       "      <td>45.000000</td>\n",
       "      <td>8.000000</td>\n",
       "    </tr>\n",
       "    <tr>\n",
       "      <th>max</th>\n",
       "      <td>50.000000</td>\n",
       "      <td>10.000000</td>\n",
       "    </tr>\n",
       "  </tbody>\n",
       "</table>\n",
       "</div>"
      ],
      "text/plain": [
       "       Feedback_Ratings  Customer_Support_Interactions\n",
       "count       2500.000000                    2500.000000\n",
       "mean          40.047600                       4.951600\n",
       "std            5.807687                       3.191572\n",
       "min           30.000000                       0.000000\n",
       "25%           35.000000                       2.000000\n",
       "50%           40.000000                       5.000000\n",
       "75%           45.000000                       8.000000\n",
       "max           50.000000                      10.000000"
      ]
     },
     "execution_count": 9,
     "metadata": {},
     "output_type": "execute_result"
    }
   ],
   "source": [
    "prime[['Feedback_Ratings', 'Customer_Support_Interactions']].describe()"
   ]
  },
  {
   "cell_type": "markdown",
   "metadata": {},
   "source": [
    "From above we see that the maximum value for feedbak ratings is 50 and that only 25% of the users gave a rating greater than 45, but since the mean is 40 we can say that the users are "
   ]
  },
  {
   "cell_type": "code",
   "execution_count": 17,
   "metadata": {},
   "outputs": [
    {
     "data": {
      "text/html": [
       "<div>\n",
       "<style scoped>\n",
       "    .dataframe tbody tr th:only-of-type {\n",
       "        vertical-align: middle;\n",
       "    }\n",
       "\n",
       "    .dataframe tbody tr th {\n",
       "        vertical-align: top;\n",
       "    }\n",
       "\n",
       "    .dataframe thead th {\n",
       "        text-align: right;\n",
       "    }\n",
       "</style>\n",
       "<table border=\"1\" class=\"dataframe\">\n",
       "  <thead>\n",
       "    <tr style=\"text-align: right;\">\n",
       "      <th></th>\n",
       "      <th>Feedback_Ratings</th>\n",
       "      <th>Customer_Support_Interactions</th>\n",
       "    </tr>\n",
       "  </thead>\n",
       "  <tbody>\n",
       "    <tr>\n",
       "      <th>count</th>\n",
       "      <td>2500.000000</td>\n",
       "      <td>2500.000000</td>\n",
       "    </tr>\n",
       "    <tr>\n",
       "      <th>mean</th>\n",
       "      <td>40.047600</td>\n",
       "      <td>4.951600</td>\n",
       "    </tr>\n",
       "    <tr>\n",
       "      <th>std</th>\n",
       "      <td>5.807687</td>\n",
       "      <td>3.191572</td>\n",
       "    </tr>\n",
       "    <tr>\n",
       "      <th>min</th>\n",
       "      <td>30.000000</td>\n",
       "      <td>0.000000</td>\n",
       "    </tr>\n",
       "    <tr>\n",
       "      <th>10%</th>\n",
       "      <td>32.000000</td>\n",
       "      <td>1.000000</td>\n",
       "    </tr>\n",
       "    <tr>\n",
       "      <th>20%</th>\n",
       "      <td>34.000000</td>\n",
       "      <td>2.000000</td>\n",
       "    </tr>\n",
       "    <tr>\n",
       "      <th>30%</th>\n",
       "      <td>36.000000</td>\n",
       "      <td>3.000000</td>\n",
       "    </tr>\n",
       "    <tr>\n",
       "      <th>40%</th>\n",
       "      <td>38.000000</td>\n",
       "      <td>4.000000</td>\n",
       "    </tr>\n",
       "    <tr>\n",
       "      <th>50%</th>\n",
       "      <td>40.000000</td>\n",
       "      <td>5.000000</td>\n",
       "    </tr>\n",
       "    <tr>\n",
       "      <th>60%</th>\n",
       "      <td>42.000000</td>\n",
       "      <td>6.000000</td>\n",
       "    </tr>\n",
       "    <tr>\n",
       "      <th>70%</th>\n",
       "      <td>44.000000</td>\n",
       "      <td>7.000000</td>\n",
       "    </tr>\n",
       "    <tr>\n",
       "      <th>80%</th>\n",
       "      <td>46.000000</td>\n",
       "      <td>8.000000</td>\n",
       "    </tr>\n",
       "    <tr>\n",
       "      <th>90%</th>\n",
       "      <td>48.000000</td>\n",
       "      <td>9.000000</td>\n",
       "    </tr>\n",
       "    <tr>\n",
       "      <th>95%</th>\n",
       "      <td>49.000000</td>\n",
       "      <td>10.000000</td>\n",
       "    </tr>\n",
       "    <tr>\n",
       "      <th>max</th>\n",
       "      <td>50.000000</td>\n",
       "      <td>10.000000</td>\n",
       "    </tr>\n",
       "  </tbody>\n",
       "</table>\n",
       "</div>"
      ],
      "text/plain": [
       "       Feedback_Ratings  Customer_Support_Interactions\n",
       "count       2500.000000                    2500.000000\n",
       "mean          40.047600                       4.951600\n",
       "std            5.807687                       3.191572\n",
       "min           30.000000                       0.000000\n",
       "10%           32.000000                       1.000000\n",
       "20%           34.000000                       2.000000\n",
       "30%           36.000000                       3.000000\n",
       "40%           38.000000                       4.000000\n",
       "50%           40.000000                       5.000000\n",
       "60%           42.000000                       6.000000\n",
       "70%           44.000000                       7.000000\n",
       "80%           46.000000                       8.000000\n",
       "90%           48.000000                       9.000000\n",
       "95%           49.000000                      10.000000\n",
       "max           50.000000                      10.000000"
      ]
     },
     "execution_count": 17,
     "metadata": {},
     "output_type": "execute_result"
    }
   ],
   "source": [
    "prime[['Feedback_Ratings', 'Customer_Support_Interactions']].describe(percentiles=[0.1, 0.2, 0.3, 0.4, 0.5, 0.6, 0.7, 0.8, 0.9, 0.95])"
   ]
  },
  {
   "cell_type": "markdown",
   "metadata": {},
   "source": [
    "As feedback ratings increase on the percentiles, so does the customer support interactions. Let's see if there's any correlation between those variables:"
   ]
  },
  {
   "cell_type": "code",
   "execution_count": 18,
   "metadata": {},
   "outputs": [
    {
     "data": {
      "text/html": [
       "<div>\n",
       "<style scoped>\n",
       "    .dataframe tbody tr th:only-of-type {\n",
       "        vertical-align: middle;\n",
       "    }\n",
       "\n",
       "    .dataframe tbody tr th {\n",
       "        vertical-align: top;\n",
       "    }\n",
       "\n",
       "    .dataframe thead th {\n",
       "        text-align: right;\n",
       "    }\n",
       "</style>\n",
       "<table border=\"1\" class=\"dataframe\">\n",
       "  <thead>\n",
       "    <tr style=\"text-align: right;\">\n",
       "      <th></th>\n",
       "      <th>Feedback_Ratings</th>\n",
       "      <th>Customer_Support_Interactions</th>\n",
       "    </tr>\n",
       "  </thead>\n",
       "  <tbody>\n",
       "    <tr>\n",
       "      <th>Feedback_Ratings</th>\n",
       "      <td>1.000000</td>\n",
       "      <td>0.008026</td>\n",
       "    </tr>\n",
       "    <tr>\n",
       "      <th>Customer_Support_Interactions</th>\n",
       "      <td>0.008026</td>\n",
       "      <td>1.000000</td>\n",
       "    </tr>\n",
       "  </tbody>\n",
       "</table>\n",
       "</div>"
      ],
      "text/plain": [
       "                               Feedback_Ratings  Customer_Support_Interactions\n",
       "Feedback_Ratings                       1.000000                       0.008026\n",
       "Customer_Support_Interactions          0.008026                       1.000000"
      ]
     },
     "execution_count": 18,
     "metadata": {},
     "output_type": "execute_result"
    }
   ],
   "source": [
    "prime[['Feedback_Ratings', 'Customer_Support_Interactions']].corr()"
   ]
  },
  {
   "cell_type": "markdown",
   "metadata": {},
   "source": [
    "No correlation at all. Let's plot them to see them better:"
   ]
  },
  {
   "cell_type": "code",
   "execution_count": 20,
   "metadata": {},
   "outputs": [],
   "source": [
    "import seaborn"
   ]
  },
  {
   "cell_type": "code",
   "execution_count": 23,
   "metadata": {},
   "outputs": [
    {
     "data": {
      "text/plain": [
       "<Axes: xlabel='Feedback_Ratings', ylabel='Customer_Support_Interactions'>"
      ]
     },
     "execution_count": 23,
     "metadata": {},
     "output_type": "execute_result"
    },
    {
     "data": {
      "image/png": "[encoded data removed]",
      "text/plain": [
       "<Figure size 640x480 with 1 Axes>"
      ]
     },
     "metadata": {},
     "output_type": "display_data"
    }
   ],
   "source": [
    "seaborn.scatterplot(data=prime, x='Feedback_Ratings', y='Customer_Support_Interactions')"
   ]
  },
  {
   "cell_type": "markdown",
   "metadata": {},
   "source": [
    "So, it seems, that for every amount of customer support interactions the users have rated the whole array of feedback ratings."
   ]
  },
  {
   "cell_type": "markdown",
   "metadata": {},
   "source": [
    "### Other analysis"
   ]
  },
  {
   "cell_type": "markdown",
   "metadata": {},
   "source": [
    "The dataset is equally distributed between men and women."
   ]
  },
  {
   "cell_type": "code",
   "execution_count": 24,
   "metadata": {},
   "outputs": [
    {
     "data": {
      "text/plain": [
       "Gender\n",
       "Male      1260\n",
       "Female    1240\n",
       "Name: count, dtype: int64"
      ]
     },
     "execution_count": 24,
     "metadata": {},
     "output_type": "execute_result"
    }
   ],
   "source": [
    "prime['Gender'].value_counts()"
   ]
  },
  {
   "cell_type": "markdown",
   "metadata": {},
   "source": [
    "Around half of the users are subscribed monthly and annually as well."
   ]
  },
  {
   "cell_type": "code",
   "execution_count": 25,
   "metadata": {},
   "outputs": [
    {
     "data": {
      "text/plain": [
       "Subscription_Plan\n",
       "Annual     1271\n",
       "Monthly    1229\n",
       "Name: count, dtype: int64"
      ]
     },
     "execution_count": 25,
     "metadata": {},
     "output_type": "execute_result"
    }
   ],
   "source": [
    "prime['Subscription_Plan'].value_counts()"
   ]
  },
  {
   "cell_type": "code",
   "execution_count": 26,
   "metadata": {},
   "outputs": [
    {
     "data": {
      "text/plain": [
       "<Axes: xlabel='Favorite_Genres', ylabel='Customer_Support_Interactions'>"
      ]
     },
     "execution_count": 26,
     "metadata": {},
     "output_type": "execute_result"
    },
    {
     "data": {
      "image/png": "[encoded data removed]",
      "text/plain": [
       "<Figure size 640x480 with 1 Axes>"
      ]
     },
     "metadata": {},
     "output_type": "display_data"
    }
   ],
   "source": [
    "seaborn.scatterplot(data=prime, x='Favorite_Genres', y='Customer_Support_Interactions')"
   ]
  },
  {
   "cell_type": "code",
   "execution_count": null,
   "metadata": {},
   "outputs": [],
   "source": []
  }
 ],
 "metadata": {
  "kernelspec": {
   "display_name": "Python 3",
   "language": "python",
   "name": "python3"
  },
  "language_info": {
   "codemirror_mode": {
    "name": "ipython",
    "version": 3
   },
   "file_extension": ".py",
   "mimetype": "text/x-python",
   "name": "python",
   "nbconvert_exporter": "python",
   "pygments_lexer": "ipython3",
   "version": "3.11.3"
  }
 },
 "nbformat": 4,
 "nbformat_minor": 2
}
