{
 "cells": [
  {
   "cell_type": "markdown",
   "metadata": {},
   "source": [
    "# Transfer data from OLTP to OLAP\n",
    "The idea is to join all tables from the OLTP database to transfer on table only to the OLAP database. OLAP database will have one time dimension."
   ]
  },
  {
   "cell_type": "markdown",
   "metadata": {},
   "source": [
    "### connect to oltp database and read the data"
   ]
  },
  {
   "cell_type": "code",
   "execution_count": 1,
   "metadata": {},
   "outputs": [],
   "source": [
    "import pandas as pd\n",
    "from sqlalchemy import create_engine\n",
    "from utils import connection"
   ]
  },
  {
   "cell_type": "code",
   "execution_count": 2,
   "metadata": {},
   "outputs": [],
   "source": [
    "# get credentials for oltp schema\n",
    "host, database, user, password = connection.mysql_params('oltp')"
   ]
  },
  {
   "cell_type": "code",
   "execution_count": 3,
   "metadata": {},
   "outputs": [],
   "source": [
    "engine = create_engine(f\"mysql://{user}:{password}@{host}:3306/{database}\")\n",
    "conn = engine.connect()"
   ]
  },
  {
   "cell_type": "markdown",
   "metadata": {},
   "source": [
    "### query oltp tables changing names of the columns to match olap table"
   ]
  },
  {
   "cell_type": "code",
   "execution_count": 4,
   "metadata": {},
   "outputs": [],
   "source": [
    "query = \"\"\"\n",
    "    SELECT\n",
    "        User_ID,\n",
    "        Name,\n",
    "        Email_Address,\n",
    "        Username,\n",
    "        Date_of_Birth,\n",
    "        Gender,\n",
    "        l.location AS Location,\n",
    "        Membership_Start_Date,\n",
    "        Membership_End_Date,\n",
    "        sp.subscription_plan AS Subscription_Plan,\n",
    "        p.payment AS Payment_Information,\n",
    "        r.renewal_status AS Renewal_Status,\n",
    "        uf.usage_frequency AS Usage_Frequency,\n",
    "        ph.purchase_history AS Purchase_History,\n",
    "        g.genre AS Favorite_Genres,\n",
    "        d.device AS Devices_Used,\n",
    "        em.engagement_metrics AS Engagement_Metrics,  \n",
    "        Feedback_Ratings,\n",
    "        Customer_Support_Interactions\n",
    "        FROM prime_users AS pu\n",
    "        JOIN location AS l ON pu.Location_Id = l.location_id\n",
    "        JOIN subscription_plan AS sp ON pu.Subscription_Plan_Id = sp.subscription_plan_id\n",
    "        JOIN payment AS p ON pu.Payment_Info_Id = p.payment_id\n",
    "        JOIN renewal AS r ON pu.Renewal_Status_Id = r.renewal_id\n",
    "        JOIN usage_frequency AS uf ON pu.Usage_Frequency_Id = uf.usage_frequency_id\n",
    "        LEFT JOIN purchase_history AS ph ON pu.Purchase_History_Id = ph.purchase_history_id\n",
    "        JOIN genre AS g ON pu.Favorite_Genres_Id = g.genre_id\n",
    "        JOIN device AS d ON pu.Devices_Used_Id = d.device_id\n",
    "        JOIN engagement AS em ON pu.Engagement_Metrics_Id = em.engagement_id\n",
    "\"\"\""
   ]
  },
  {
   "cell_type": "code",
   "execution_count": 5,
   "metadata": {},
   "outputs": [
    {
     "data": {
      "text/plain": [
       "(2500, 19)"
      ]
     },
     "execution_count": 5,
     "metadata": {},
     "output_type": "execute_result"
    }
   ],
   "source": [
    "amazon = pd.read_sql(sql=query, con=conn)\n",
    "amazon.shape"
   ]
  },
  {
   "cell_type": "markdown",
   "metadata": {},
   "source": [
    "### Cargamos datos a OLAP"
   ]
  },
  {
   "cell_type": "code",
   "execution_count": 6,
   "metadata": {},
   "outputs": [],
   "source": [
    "# get credentials for olap schema\n",
    "host, database, user, password = connection.mysql_params('olap')"
   ]
  },
  {
   "cell_type": "code",
   "execution_count": 7,
   "metadata": {},
   "outputs": [],
   "source": [
    "engine = create_engine(f\"mysql://{user}:{password}@{host}:3306/{database}\")\n",
    "conn = engine.connect()"
   ]
  },
  {
   "cell_type": "code",
   "execution_count": 8,
   "metadata": {},
   "outputs": [
    {
     "data": {
      "text/plain": [
       "2500"
      ]
     },
     "execution_count": 8,
     "metadata": {},
     "output_type": "execute_result"
    }
   ],
   "source": [
    "amazon.to_sql(name='prime_users', con=conn, if_exists='append', index=False)"
   ]
  }
 ],
 "metadata": {
  "kernelspec": {
   "display_name": "Python 3",
   "language": "python",
   "name": "python3"
  },
  "language_info": {
   "codemirror_mode": {
    "name": "ipython",
    "version": 3
   },
   "file_extension": ".py",
   "mimetype": "text/x-python",
   "name": "python",
   "nbconvert_exporter": "python",
   "pygments_lexer": "ipython3",
   "version": "3.11.3"
  }
 },
 "nbformat": 4,
 "nbformat_minor": 2
}
